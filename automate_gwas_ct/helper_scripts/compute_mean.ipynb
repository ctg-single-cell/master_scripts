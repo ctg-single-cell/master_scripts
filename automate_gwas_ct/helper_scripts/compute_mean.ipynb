{
 "cells": [
  {
   "cell_type": "markdown",
   "metadata": {},
   "source": [
    "# Documenting how to compute mean for RNAseq datasets\n",
    "\n",
    "## Mean\n",
    "- There are 2 ways (that I am aware of) to compute mean\n",
    "    - Script from Rachel (original script is `single_cell_MAGMA_files_v2.py` but I have modified this to `compute_sumstat_magma.py`). For convenience, I will call this method `mean_vanilla`\n",
    "    - EWCE: method used in Skene papers. I will call this `mean_ewce`\n",
    "- Below I will attempt to demonstrate how to calculate these\n",
    "\n",
    "### mean_vanilla\n",
    "- First, normalize counts per cell \n",
    "- Second, log-transform\n",
    "- Third, compute mean"
   ]
  },
  {
   "cell_type": "markdown",
   "metadata": {},
   "source": [
    "- In the following code I will walk through an example."
   ]
  },
  {
   "cell_type": "code",
   "execution_count": 1,
   "metadata": {},
   "outputs": [],
   "source": [
    "import scanpy as sc\n",
    "import anndata\n",
    "import pandas as pd"
   ]
  },
  {
   "cell_type": "markdown",
   "metadata": {},
   "source": [
    "- First, read in and clean the h5ad file"
   ]
  },
  {
   "cell_type": "code",
   "execution_count": 2,
   "metadata": {},
   "outputs": [
    {
     "name": "stderr",
     "output_type": "stream",
     "text": [
      "c:\\Users\\tph205\\AppData\\Local\\anaconda3\\envs\\jupyter_env\\lib\\site-packages\\anndata\\_core\\anndata.py:1832: UserWarning: Variable names are not unique. To make them unique, call `.var_names_make_unique`.\n",
      "  utils.warn_names_duplicates(\"var\")\n"
     ]
    },
    {
     "name": "stdout",
     "output_type": "stream",
     "text": [
      "Originally, adata has 71852 rows (cells) and 36515 columns (genes)\n",
      "After cleaning, adata has 71852 rows (cells) and 24617 columns (genes)\n"
     ]
    }
   ],
   "source": [
    "adata_path = \"scrna/41_Siletti_Cerebellum.CBV_Human_2022/41_Siletti_Cerebellum.CBV_Human_2022.h5ad\" #this is the h5ad file after preprocessing\n",
    "adata_original = anndata.read(adata_path)\n",
    "print(f\"Originally, adata has {adata_original.shape[0]} rows (cells) and {adata_original.shape[1]} columns (genes)\")\n",
    "\n",
    "# because the scRNAseq data contains genes that don't have ensemble, it is cleaner to create a filtered adata where:\n",
    "# genes that were not convertible to ensembl\n",
    "adata_original.var_names_make_unique()\n",
    "gene_list = adata_original.var[adata_original.var[\"ensembl\"].notnull()].index.values.tolist() #this obtains a list of gene in symbol that has an ensemble conversion\n",
    "adata = adata_original[:, gene_list].copy() #subset based on the genes (keep the genes if it was converted to ensemble successfully)\n",
    "\n",
    "# now, adata.X is the matrix in numpy format where row is cell ID and column is the gene\\\n",
    "print(f\"After cleaning, adata has {adata.shape[0]} rows (cells) and {adata.shape[1]} columns (genes)\")"
   ]
  },
  {
   "cell_type": "markdown",
   "metadata": {},
   "source": [
    "- Second, clean by normalizing and log-transforming"
   ]
  },
  {
   "cell_type": "code",
   "execution_count": 3,
   "metadata": {},
   "outputs": [
    {
     "data": {
      "text/plain": [
       "<71852x24617 sparse matrix of type '<class 'numpy.float32'>'\n",
       "\twith 174317471 stored elements in Compressed Sparse Row format>"
      ]
     },
     "execution_count": 3,
     "metadata": {},
     "output_type": "execute_result"
    }
   ],
   "source": [
    "# normalize counts per cell (in place)\n",
    "sc.pp.normalize_total(adata, target_sum=1e6)\n",
    "\n",
    "# log-transform the original data\n",
    "sc.pp.log1p(adata.X, base=2)"
   ]
  },
  {
   "cell_type": "markdown",
   "metadata": {},
   "source": [
    "- Third, compute mean"
   ]
  },
  {
   "cell_type": "code",
   "execution_count": 4,
   "metadata": {},
   "outputs": [],
   "source": [
    "ct_colname = \"supercluster_term\"\n",
    "# define the genes in the dataset\n",
    "genes = adata.var[\"ensembl\"].to_list()\n",
    "\n",
    "# define the available cell types in the dataset\n",
    "cts = adata.obs[ct_colname].dropna().unique()\n",
    "\n",
    "means_cell_log_counts_pM = pd.DataFrame(data=None, index=cts, columns=genes, dtype=float)\n",
    "\n",
    "for ct in cts:\n",
    "    Y = adata[adata.obs[ct_colname] == ct, :].to_df()\n",
    "    Y.columns = genes\n",
    "    means_cell_log_counts_pM.loc[ct, :] = Y.mean(0)\n",
    "\n",
    "# convert from gene symbol to ensemble gene\n",
    "means_cell_log_counts_pM.loc[\"Average\"] = (means_cell_log_counts_pM.mean(axis=0))\n",
    "means_cell_log_counts_pM.index = [w.replace(' ', '_') for w in means_cell_log_counts_pM.index.values]\n",
    "means_cell_log_counts_pM.index = [w.replace('/', '_') for w in means_cell_log_counts_pM.index.values]\n",
    "means_cell_log_counts_pM.index = [w.replace(':', '_') for w in means_cell_log_counts_pM.index.values]\n",
    "\n",
    "means_cell_log_counts_pM_t = means_cell_log_counts_pM.T\n",
    "means_cell_log_counts_pM_t.index.name = \"GENE\"\n",
    "means_cell_log_counts_pM_t.reset_index(inplace=True)\n",
    "means_cell_log_counts_pM_out = means_cell_log_counts_pM_t.drop_duplicates(subset=[\"GENE\"])"
   ]
  },
  {
   "cell_type": "code",
   "execution_count": 5,
   "metadata": {},
   "outputs": [
    {
     "name": "stdout",
     "output_type": "stream",
     "text": [
      "              GENE  Committed_oligodendrocyte_precursor  Oligodendrocyte   \n",
      "0  ENSG00000284678                             0.245080         0.025246  \\\n",
      "1  ENSG00000167995                             2.768120         1.567038   \n",
      "2  ENSG00000204655                             4.400767         8.467441   \n",
      "3  ENSG00000253807                             8.470038         5.498433   \n",
      "4  ENSG00000169247                             0.553338         5.730296   \n",
      "\n",
      "   Oligodendrocyte_precursor  Splatter  Upper_rhombic_lip   \n",
      "0                   0.017279       0.0           0.007333  \\\n",
      "1                   0.707532       0.0           0.035181   \n",
      "2                   0.287125       0.0           0.060208   \n",
      "3                   2.357371       0.0           0.090106   \n",
      "4                   0.036469       0.0           0.019087   \n",
      "\n",
      "   Cerebellar_inhibitory  Miscellaneous  Astrocyte  Bergmann_glia  Ependymal   \n",
      "0               0.021989       0.000000   0.000000       0.000000        0.0  \\\n",
      "1               0.040223       0.116392   0.626504       0.105687        0.0   \n",
      "2               0.091341       0.251444   0.166976       0.062558        0.0   \n",
      "3               0.218148       0.187395   0.957502       0.428541        0.0   \n",
      "4               0.048531       0.054354   0.084319       0.023829        0.0   \n",
      "\n",
      "   Vascular  Fibroblast  Microglia   Average  \n",
      "0  0.000000    0.000000   0.049435  0.028182  \n",
      "1  0.091224    0.094765   0.278776  0.494726  \n",
      "2  0.110027    0.149007   0.073501  1.086184  \n",
      "3  0.055977    0.051608   0.054435  1.413043  \n",
      "4  0.199760    0.000000   0.042989  0.522536  \n"
     ]
    }
   ],
   "source": [
    "print(means_cell_log_counts_pM_out.head())"
   ]
  },
  {
   "cell_type": "markdown",
   "metadata": {},
   "source": [
    "- **NOTES**: For some of the scRNAseq, the `mean_vanilla` was already computed and stored on snellius: `/gpfs/work5/0/vusr0480/Processed_scRNA/data/magma/`"
   ]
  },
  {
   "cell_type": "markdown",
   "metadata": {},
   "source": [
    "### mean_ewce\n",
    "- When implementing ewce we can get out both the specificity and mean. Therefore, please refer to the file `compute_spec.ipynb` for more information."
   ]
  }
 ],
 "metadata": {
  "kernelspec": {
   "display_name": "Python 3",
   "language": "python",
   "name": "python3"
  },
  "language_info": {
   "codemirror_mode": {
    "name": "ipython",
    "version": 3
   },
   "file_extension": ".py",
   "mimetype": "text/x-python",
   "name": "python",
   "nbconvert_exporter": "python",
   "pygments_lexer": "ipython3",
   "version": "3.10.10"
  }
 },
 "nbformat": 4,
 "nbformat_minor": 2
}
